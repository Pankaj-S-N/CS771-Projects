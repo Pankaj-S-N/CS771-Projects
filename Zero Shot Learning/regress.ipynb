{
  "nbformat": 4,
  "nbformat_minor": 0,
  "metadata": {
    "colab": {
      "provenance": []
    },
    "kernelspec": {
      "name": "python3",
      "display_name": "Python 3"
    },
    "language_info": {
      "name": "python"
    }
  },
  "cells": [
    {
      "cell_type": "code",
      "execution_count": 1,
      "metadata": {
        "colab": {
          "base_uri": "https://localhost:8080/"
        },
        "id": "TWxp3KeBqAV4",
        "outputId": "0c8507b0-cafe-4c3c-a8ce-7fb55c2c6c63"
      },
      "outputs": [
        {
          "output_type": "stream",
          "name": "stdout",
          "text": [
            "Mounted at /content/gdrive\n"
          ]
        }
      ],
      "source": [
        "# from google.colab import drive\n",
        "# drive.mount('/content/gdrive')"
      ]
    },
    {
      "cell_type": "code",
      "source": [
        "import numpy as np"
      ],
      "metadata": {
        "id": "rR4CH9X1r4sv"
      },
      "execution_count": 2,
      "outputs": []
    },
    {
      "cell_type": "code",
      "source": [
        "folder_location = '/content/gdrive/MyDrive/hw1/data/AwA_python/'"
      ],
      "metadata": {
        "id": "PsqSbYvCxxiM"
      },
      "execution_count": 3,
      "outputs": []
    },
    {
      "cell_type": "code",
      "source": [
        "X_seen = np.load(folder_location+'X_seen.npy',encoding='bytes',allow_pickle=True)\n",
        "X_test = np.load(folder_location+'Xtest.npy',encoding='bytes',allow_pickle=True)\n",
        "Y_test = np.load(folder_location+'Ytest.npy',encoding='bytes',allow_pickle=True)\n",
        "CA_seen = np.load(folder_location+'class_attributes_seen.npy',encoding='bytes',allow_pickle=True)\n",
        "CA_unseen = np.load(folder_location+'class_attributes_unseen.npy',encoding='bytes',allow_pickle=True)"
      ],
      "metadata": {
        "id": "5crwrY84r7ZW"
      },
      "execution_count": 4,
      "outputs": []
    },
    {
      "cell_type": "code",
      "source": [
        "I = np.identity(85)"
      ],
      "metadata": {
        "id": "fRiZuO5FJNuk"
      },
      "execution_count": 5,
      "outputs": []
    },
    {
      "cell_type": "code",
      "source": [
        "I_x = [0.01, 0.1, 1, 10, 20, 50, 100] #storing lambda values foriterating later"
      ],
      "metadata": {
        "id": "7in8IOAHHaLq"
      },
      "execution_count": 6,
      "outputs": []
    },
    {
      "cell_type": "code",
      "source": [
        "mu_matrix = np.zeros((50,4096))"
      ],
      "metadata": {
        "id": "0YDIlnQ4tk72"
      },
      "execution_count": 7,
      "outputs": []
    },
    {
      "cell_type": "code",
      "source": [
        "for i in range(40):\n",
        "  mu_matrix[i] = np.mean(X_seen[i],axis=0)"
      ],
      "metadata": {
        "id": "0sGTdyFgtvM6"
      },
      "execution_count": 8,
      "outputs": []
    },
    {
      "cell_type": "code",
      "source": [
        "# W = np.zeros((85,4096))"
      ],
      "metadata": {
        "id": "qGuZdGT3IsUb"
      },
      "execution_count": 9,
      "outputs": []
    },
    {
      "cell_type": "code",
      "source": [
        "np.dot(np.transpose(CA_seen),CA_seen).shape"
      ],
      "metadata": {
        "colab": {
          "base_uri": "https://localhost:8080/"
        },
        "id": "1_33_PhIJ2IS",
        "outputId": "d5f0c9cb-5dd3-4aea-a3fc-c0beb8516c53"
      },
      "execution_count": 10,
      "outputs": [
        {
          "output_type": "execute_result",
          "data": {
            "text/plain": [
              "(85, 85)"
            ]
          },
          "metadata": {},
          "execution_count": 10
        }
      ]
    },
    {
      "cell_type": "code",
      "source": [
        "accu_pred_mat_dist = np.zeros(7) # for storing final accuracies\n",
        "accu_pred_mat_cos_sim = np.zeros(7)"
      ],
      "metadata": {
        "id": "8Kwch79VswYS"
      },
      "execution_count": 32,
      "outputs": []
    },
    {
      "cell_type": "code",
      "source": [
        "pred_mat_dist = np.zeros(10) # for storing the distances\n",
        "pred_mat_cos_sim = np.zeros(10)"
      ],
      "metadata": {
        "id": "j1dwYGlVtGH8"
      },
      "execution_count": 33,
      "outputs": []
    },
    {
      "cell_type": "code",
      "source": [
        "for l in range(7):\n",
        "  W = np.linalg.inv(np.dot(np.transpose(CA_seen),CA_seen)+I_x[l]*I)\n",
        "  W = np.dot(W,np.transpose(CA_seen))\n",
        "  W = np.dot(W,mu_matrix[:40])\n",
        "\n",
        "  for i in range(10):\n",
        "    mu_matrix[i+40] = np.dot(CA_unseen[i],W)\n",
        "\n",
        "  accu_pred_dist = 0 # for storing number of correctly predicted labels\n",
        "  accu_pred_cos_sim = 0\n",
        "  for j in range(6180):\n",
        "    for i in range(10):\n",
        "      pred_mat_dist[i] = np.linalg.norm(mu_matrix[i+40]-X_test[j])\n",
        "      pred_mat_cos_sim[i] = np.dot(mu_matrix[i+40],X_test[j])\n",
        "    if np.argmin(pred_mat_dist)+1 == Y_test[j]:\n",
        "      accu_pred_dist +=1\n",
        "    if np.argmax(pred_mat_cos_sim)+1 == Y_test[j]:\n",
        "      accu_pred_cos_sim +=1\n",
        "  accu_pred_mat_dist[l] = accu_pred_dist/61.8\n",
        "  accu_pred_mat_cos_sim[l] = accu_pred_cos_sim/61.8"
      ],
      "metadata": {
        "id": "BIuNU3ejsVfG"
      },
      "execution_count": 34,
      "outputs": []
    },
    {
      "cell_type": "code",
      "source": [
        "accu_pred_mat_dist,accu_pred_mat_cos_sim"
      ],
      "metadata": {
        "colab": {
          "base_uri": "https://localhost:8080/"
        },
        "id": "zFCPEO8StfGe",
        "outputId": "9fb92c4b-c6d9-4ac8-fd1a-32e39f523e86"
      },
      "execution_count": 36,
      "outputs": [
        {
          "output_type": "execute_result",
          "data": {
            "text/plain": [
              "(array([58.09061489, 59.54692557, 67.39482201, 73.28478964, 71.6828479 ,\n",
              "        65.08090615, 56.47249191]),\n",
              " array([59.90291262, 60.12944984, 60.63106796, 55.33980583, 50.77669903,\n",
              "        43.26860841, 35.61488673]))"
            ]
          },
          "metadata": {},
          "execution_count": 36
        }
      ]
    },
    {
      "cell_type": "code",
      "source": [
        "print('lambda = ',I_x[np.argmax(accu_pred_mat_dist)],' gives highest accuracy ',np.max(accu_pred_mat_dist),' when using euclidean distance as metric')"
      ],
      "metadata": {
        "colab": {
          "base_uri": "https://localhost:8080/"
        },
        "id": "8rRR1hMitna6",
        "outputId": "2c2a5e89-2052-4373-80cf-86bb4627d199"
      },
      "execution_count": 39,
      "outputs": [
        {
          "output_type": "stream",
          "name": "stdout",
          "text": [
            "lambda =  10  gives highest accuracy  73.28478964401295  when using euclidean distance as metric\n"
          ]
        }
      ]
    },
    {
      "cell_type": "code",
      "source": [
        "print('lambda = ',I_x[np.argmax(accu_pred_mat_cos_sim)],' gives highest accuracy ',np.max(accu_pred_mat_cos_sim),' when using cosine similarity as metric')"
      ],
      "metadata": {
        "colab": {
          "base_uri": "https://localhost:8080/"
        },
        "id": "4qh3o3Jc1oMw",
        "outputId": "584fac87-9744-4dbb-d416-9ae096afb71a"
      },
      "execution_count": 40,
      "outputs": [
        {
          "output_type": "stream",
          "name": "stdout",
          "text": [
            "lambda =  1  gives highest accuracy  60.63106796116505  when using cosine similarity as metric\n"
          ]
        }
      ]
    },
    {
      "cell_type": "code",
      "source": [
        "np.unique(Y_test,return_counts=True)"
      ],
      "metadata": {
        "colab": {
          "base_uri": "https://localhost:8080/"
        },
        "id": "JCF3kn6m2A2c",
        "outputId": "5d2b636b-1f65-4cb2-eb05-b986df791e26"
      },
      "execution_count": 16,
      "outputs": [
        {
          "output_type": "execute_result",
          "data": {
            "text/plain": [
              "(array([ 1.,  2.,  3.,  4.,  5.,  6.,  7.,  8.,  9., 10.]),\n",
              " array([701, 942, 723, 716, 608, 714, 331, 633, 303, 509]))"
            ]
          },
          "metadata": {},
          "execution_count": 16
        }
      ]
    }
  ]
}