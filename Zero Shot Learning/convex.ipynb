{
  "nbformat": 4,
  "nbformat_minor": 0,
  "metadata": {
    "colab": {
      "provenance": []
    },
    "kernelspec": {
      "name": "python3",
      "display_name": "Python 3"
    },
    "language_info": {
      "name": "python"
    }
  },
  "cells": [
    {
      "cell_type": "code",
      "execution_count": 1,
      "metadata": {
        "colab": {
          "base_uri": "https://localhost:8080/"
        },
        "id": "TWxp3KeBqAV4",
        "outputId": "2105c83f-938c-4fca-9d3b-17335d217658"
      },
      "outputs": [
        {
          "output_type": "stream",
          "name": "stdout",
          "text": [
            "Mounted at /content/gdrive\n"
          ]
        }
      ],
      "source": [
        "# from google.colab import drive\n",
        "# drive.mount('/content/gdrive')"
      ]
    },
    {
      "cell_type": "code",
      "source": [
        "import numpy as np"
      ],
      "metadata": {
        "id": "rR4CH9X1r4sv"
      },
      "execution_count": 2,
      "outputs": []
    },
    {
      "cell_type": "code",
      "source": [
        "folder_location = '/content/gdrive/MyDrive/hw1/data/AwA_python/'"
      ],
      "metadata": {
        "id": "EO__aj3Ku7-j"
      },
      "execution_count": 3,
      "outputs": []
    },
    {
      "cell_type": "code",
      "source": [
        "X_seen = np.load(folder_location+'X_seen.npy',encoding='bytes',allow_pickle=True)\n",
        "X_test = np.load(folder_location+'Xtest.npy',encoding='bytes',allow_pickle=True)\n",
        "Y_test = np.load(folder_location+'Ytest.npy',encoding='bytes',allow_pickle=True)\n",
        "CA_seen = np.load(folder_location+'class_attributes_seen.npy',encoding='bytes',allow_pickle=True)\n",
        "CA_unseen = np.load(folder_location+'class_attributes_unseen.npy',encoding='bytes',allow_pickle=True)"
      ],
      "metadata": {
        "id": "5crwrY84r7ZW"
      },
      "execution_count": 4,
      "outputs": []
    },
    {
      "cell_type": "code",
      "source": [
        "mu_matrix = np.zeros((50,4096))"
      ],
      "metadata": {
        "id": "0YDIlnQ4tk72"
      },
      "execution_count": 5,
      "outputs": []
    },
    {
      "cell_type": "code",
      "source": [
        "for i in range(40):\n",
        "  mu_matrix[i] = np.mean(X_seen[i],axis=0)"
      ],
      "metadata": {
        "id": "0sGTdyFgtvM6"
      },
      "execution_count": 6,
      "outputs": []
    },
    {
      "cell_type": "code",
      "source": [
        "def similarity_matrix(a):\n",
        "  z = np.zeros(40)\n",
        "  for i in range(40):\n",
        "    z[i] = np.dot(CA_unseen[a],CA_seen[i])\n",
        "  m = np.sum(z)\n",
        "  for i in range(40):\n",
        "    z[i] /= m\n",
        "  return z"
      ],
      "metadata": {
        "id": "pPWQhTpLx11H"
      },
      "execution_count": 7,
      "outputs": []
    },
    {
      "cell_type": "code",
      "source": [
        "for i in range(10):\n",
        "    mu_matrix[i+40] = np.dot(similarity_matrix(i),mu_matrix[:40]) # using mu_matrix[i+40] because we are indexing the 41-50 classes"
      ],
      "metadata": {
        "id": "-dXVVD9ewbLk"
      },
      "execution_count": 8,
      "outputs": []
    },
    {
      "cell_type": "code",
      "source": [
        "np.sum(similarity_matrix(0))"
      ],
      "metadata": {
        "colab": {
          "base_uri": "https://localhost:8080/"
        },
        "id": "pJOIShpw1Orc",
        "outputId": "a5963499-89f4-4cc1-bc5f-7cf00698f4ba"
      },
      "execution_count": 9,
      "outputs": [
        {
          "output_type": "execute_result",
          "data": {
            "text/plain": [
              "1.0"
            ]
          },
          "metadata": {},
          "execution_count": 9
        }
      ]
    },
    {
      "cell_type": "code",
      "source": [
        "pred_mat = np.zeros(10)"
      ],
      "metadata": {
        "id": "iPZJdAZq2Ov7"
      },
      "execution_count": 10,
      "outputs": []
    },
    {
      "cell_type": "code",
      "source": [
        "Y_pred = np.zeros(6180)"
      ],
      "metadata": {
        "id": "oXvS5g9a32pF"
      },
      "execution_count": 11,
      "outputs": []
    },
    {
      "cell_type": "code",
      "source": [
        "accu_pred_dist = 0 # for storing number of correctly predicted labels\n",
        "for j in range(6180):\n",
        "  for i in range(10):\n",
        "    pred_mat[i] = np.linalg.norm(mu_matrix[i+40]-X_test[j])\n",
        "  if np.argmin(pred_mat)+1 == Y_test[j]:\n",
        "    accu_pred_dist +=1"
      ],
      "metadata": {
        "id": "3U_cv6YP2dls"
      },
      "execution_count": 17,
      "outputs": []
    },
    {
      "cell_type": "code",
      "source": [
        "accu_pred_cos_sim = 0 # for storing number of correctly predicted labels\n",
        "for j in range(6180):\n",
        "  for i in range(10):\n",
        "    pred_mat[i] = np.dot(mu_matrix[i+40],X_test[j])\n",
        "  if np.argmax(pred_mat)+1 == Y_test[j]:\n",
        "    accu_pred_cos_sim +=1"
      ],
      "metadata": {
        "id": "kW1PZLcxwp0V"
      },
      "execution_count": 18,
      "outputs": []
    },
    {
      "cell_type": "code",
      "source": [
        "print('Accuracy with euclidean distance is ',accu_pred_dist/61.8) #calculating accuracy"
      ],
      "metadata": {
        "colab": {
          "base_uri": "https://localhost:8080/"
        },
        "id": "TGttRajl2_6D",
        "outputId": "41200d4a-862f-44e7-8a53-fb756b7c3f30"
      },
      "execution_count": 23,
      "outputs": [
        {
          "output_type": "stream",
          "name": "stdout",
          "text": [
            "Accuracy with euclidean distance is  46.89320388349515\n"
          ]
        }
      ]
    },
    {
      "cell_type": "code",
      "source": [
        "print('Accuracy with cosine similarity is ',accu_pred_cos_sim/61.8)"
      ],
      "metadata": {
        "colab": {
          "base_uri": "https://localhost:8080/"
        },
        "id": "5izEDiSJxbgs",
        "outputId": "65f14a93-5251-4079-a17d-7dd14f8d632b"
      },
      "execution_count": 24,
      "outputs": [
        {
          "output_type": "stream",
          "name": "stdout",
          "text": [
            "Accuracy with cosine similarity is  43.042071197411005\n"
          ]
        }
      ]
    },
    {
      "cell_type": "code",
      "source": [
        "np.unique(Y_test,return_counts=True)"
      ],
      "metadata": {
        "colab": {
          "base_uri": "https://localhost:8080/"
        },
        "id": "JCF3kn6m2A2c",
        "outputId": "1f652d9a-bdf5-4d7c-baf2-abaec92af361"
      },
      "execution_count": 14,
      "outputs": [
        {
          "output_type": "execute_result",
          "data": {
            "text/plain": [
              "(array([ 1.,  2.,  3.,  4.,  5.,  6.,  7.,  8.,  9., 10.]),\n",
              " array([701, 942, 723, 716, 608, 714, 331, 633, 303, 509]))"
            ]
          },
          "metadata": {},
          "execution_count": 14
        }
      ]
    }
  ]
}